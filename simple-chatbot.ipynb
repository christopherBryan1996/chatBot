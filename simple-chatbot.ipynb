{
 "cells": [
  {
   "cell_type": "code",
   "execution_count": 1,
   "metadata": {},
   "outputs": [],
   "source": [
    "import numpy as np\n",
    "import json\n",
    "import re\n",
    "import tensorflow as tf\n",
    "import warnings\n",
    "import random\n",
    "\n",
    "import spacy\n",
    "\n",
    "nlp = spacy.load(\"en_core_web_sm\")\n",
    "\n",
    "warnings.filterwarnings('ignore')"
   ]
  },
  {
   "cell_type": "code",
   "execution_count": 2,
   "metadata": {},
   "outputs": [],
   "source": [
    "'''reading data'''\n",
    "with open('intent.json', 'rb') as file:\n",
    "    data = json.load(file)"
   ]
  },
  {
   "cell_type": "code",
   "execution_count": 3,
   "metadata": {},
   "outputs": [],
   "source": [
    "'''preprocessing'''\n",
    "def pre_processing(line):\n",
    "    line = re.sub(r'[^a-zA-z.?!\\']',' ',line)\n",
    "    line = re.sub(r'[ ]+', ' ', line)\n",
    "    return line"
   ]
  },
  {
   "cell_type": "code",
   "execution_count": 4,
   "metadata": {},
   "outputs": [],
   "source": [
    "'''get text and intent title from json data'''\n",
    "inputs, targets = [],[]\n",
    "cls = []\n",
    "intent_doc = {}\n",
    "\n",
    "for i in data['intents']:\n",
    "    if i['intent'] not in cls:\n",
    "        cls.append(i['intent'])\n",
    "\n",
    "    if i['intent'] not in intent_doc:\n",
    "        intent_doc[i['intent'] ] = []\n",
    "    \n",
    "    for text in i['text']:\n",
    "        inputs.append(pre_processing(text))\n",
    "        targets.append(i['intent'])\n",
    "\n",
    "    for response in i['responses']:\n",
    "        intent_doc[i['intent']].append(response)"
   ]
  },
  {
   "cell_type": "code",
   "execution_count": 5,
   "metadata": {},
   "outputs": [
    {
     "name": "stdout",
     "output_type": "stream",
     "text": [
      "['Hi', 'Hi there', 'Hola', 'Hello there', 'Hey', 'My user is Bryan', 'This bryan', 'I am Bryan'] ['Greeting', 'Greeting', 'Greeting', 'Greeting', 'Greeting', 'GreetingResponse', 'GreetingResponse', 'GreetingResponse']\n",
      "['Greeting', 'GreetingResponse']\n",
      "{'Greeting': ['hi human, please tell me your geniSys user', 'Hello hu, please tell me your Greeting user'], 'GreetingResponse': ['Great! Hi <HUMAN>, how cant I help?', 'Cool Hi <HUMAN>']}\n"
     ]
    }
   ],
   "source": [
    "print(inputs, targets)\n",
    "print(cls)\n",
    "print(intent_doc)"
   ]
  },
  {
   "cell_type": "code",
   "execution_count": 6,
   "metadata": {},
   "outputs": [],
   "source": [
    "'''tokenize data'''\n",
    "def token_data(inp_list):\n",
    "    tokenizer = tf.keras.preprocessing.text.Tokenizer(filters='', oov_token='<unk>')\n",
    "    tokenizer.fit_on_texts(inp_list)\n",
    "\n",
    "    inp_seq = tokenizer.texts_to_sequences(inp_list)\n",
    "\n",
    "    '''adding padding'''\n",
    "    inp_seq = tf.keras.preprocessing.sequence.pad_sequences(inp_seq, padding='pre')\n",
    "\n",
    "    return tokenizer, inp_seq\n",
    "\n",
    "'''preprocesss input data'''\n",
    "tokenizer,inp_tensor = token_data(inputs)"
   ]
  },
  {
   "cell_type": "code",
   "execution_count": 7,
   "metadata": {},
   "outputs": [
    {
     "name": "stdout",
     "output_type": "stream",
     "text": [
      "<keras.preprocessing.text.Tokenizer object at 0x00000221E1513A90>\n",
      "[[ 0  0  0  3]\n",
      " [ 0  0  3  4]\n",
      " [ 0  0  0  5]\n",
      " [ 0  0  6  4]\n",
      " [ 0  0  0  7]\n",
      " [ 8  9 10  2]\n",
      " [ 0  0 11  2]\n",
      " [ 0 12 13  2]]\n"
     ]
    }
   ],
   "source": [
    "print(tokenizer)\n",
    "print(inp_tensor)"
   ]
  },
  {
   "cell_type": "code",
   "execution_count": 8,
   "metadata": {},
   "outputs": [],
   "source": [
    "def cr_cat_target(targets):\n",
    "    word = {}\n",
    "    cat_t = []\n",
    "    counter = 0\n",
    "\n",
    "    for trg in targets:\n",
    "        if trg not in word:\n",
    "            word[trg] = counter\n",
    "            counter += 1\n",
    "        cat_t.append(word[trg])\n",
    "\n",
    "    cat_tensor = tf.keras.utils.to_categorical(cat_t, num_classes = len(word), dtype =\"int32\")\n",
    "    return cat_tensor, dict((v,k) for k, v in word.items())\n",
    "\n",
    "'''preprocess output data'''\n",
    "target_tensor, target_idx_word= cr_cat_target(targets)"
   ]
  },
  {
   "cell_type": "code",
   "execution_count": 9,
   "metadata": {},
   "outputs": [
    {
     "name": "stdout",
     "output_type": "stream",
     "text": [
      "[[1 0]\n",
      " [1 0]\n",
      " [1 0]\n",
      " [1 0]\n",
      " [1 0]\n",
      " [0 1]\n",
      " [0 1]\n",
      " [0 1]]\n",
      "{0: 'Greeting', 1: 'GreetingResponse'}\n"
     ]
    }
   ],
   "source": [
    "print(target_tensor)\n",
    "print(target_idx_word)"
   ]
  },
  {
   "cell_type": "code",
   "execution_count": 10,
   "metadata": {},
   "outputs": [
    {
     "data": {
      "text/plain": [
       "'input shape: (8, 4) and output shape: (8, 2)'"
      ]
     },
     "execution_count": 10,
     "metadata": {},
     "output_type": "execute_result"
    }
   ],
   "source": [
    "f'input shape: {np.shape(inp_tensor)} and output shape: {target_tensor.shape}'"
   ]
  },
  {
   "cell_type": "code",
   "execution_count": 12,
   "metadata": {},
   "outputs": [
    {
     "name": "stdout",
     "output_type": "stream",
     "text": [
      "Model: \"sequential_1\"\n",
      "_________________________________________________________________\n",
      " Layer (type)                Output Shape              Param #   \n",
      "=================================================================\n",
      " embedding_1 (Embedding)     (None, None, 512)         7168      \n",
      "                                                                 \n",
      " bidirectional_1 (Bidirectio  (None, 256)              656384    \n",
      " nal)                                                            \n",
      "                                                                 \n",
      " dense_2 (Dense)             (None, 128)               32896     \n",
      "                                                                 \n",
      " dropout_1 (Dropout)         (None, 128)               0         \n",
      "                                                                 \n",
      " dense_3 (Dense)             (None, 2)                 258       \n",
      "                                                                 \n",
      "=================================================================\n",
      "Total params: 696,706\n",
      "Trainable params: 696,706\n",
      "Non-trainable params: 0\n",
      "_________________________________________________________________\n"
     ]
    }
   ],
   "source": [
    "'''Build model'''\n",
    "'''hyperparameters'''\n",
    "epochs=50\n",
    "vocab_size = len(tokenizer.word_index)+1\n",
    "embed_dim = 512\n",
    "units =128\n",
    "target_len = target_tensor.shape[1]\n",
    "\n",
    "'''Model'''\n",
    "model = tf.keras.models.Sequential([\n",
    "    ##Embedding layer\n",
    "    tf.keras.layers.Embedding(vocab_size, embed_dim),\n",
    "    tf.keras.layers.Bidirectional(tf.keras.layers.LSTM(units, dropout=0.2)),\n",
    "    ##hidden layer\n",
    "    tf.keras.layers.Dense(units,activation='relu'),\n",
    "    tf.keras.layers.Dropout(0.5),\n",
    "    ##classification Layer\n",
    "    tf.keras.layers.Dense(target_len, activation='softmax')\n",
    "])\n",
    "model.summary()"
   ]
  },
  {
   "cell_type": "code",
   "execution_count": 13,
   "metadata": {},
   "outputs": [],
   "source": [
    "model.compile(optimizer='adam',\n",
    "              loss='categorical_crossentropy',\n",
    "              metrics=['accuracy'])"
   ]
  },
  {
   "cell_type": "code",
   "execution_count": 14,
   "metadata": {},
   "outputs": [
    {
     "name": "stdout",
     "output_type": "stream",
     "text": [
      "[[ 0  0  0  3]\n",
      " [ 0  0  3  4]\n",
      " [ 0  0  0  5]\n",
      " [ 0  0  6  4]\n",
      " [ 0  0  0  7]\n",
      " [ 8  9 10  2]\n",
      " [ 0  0 11  2]\n",
      " [ 0 12 13  2]]\n",
      "[[1 0]\n",
      " [1 0]\n",
      " [1 0]\n",
      " [1 0]\n",
      " [1 0]\n",
      " [0 1]\n",
      " [0 1]\n",
      " [0 1]]\n"
     ]
    }
   ],
   "source": [
    "print(inp_tensor)\n",
    "print(target_tensor)"
   ]
  },
  {
   "cell_type": "code",
   "execution_count": 16,
   "metadata": {},
   "outputs": [
    {
     "name": "stdout",
     "output_type": "stream",
     "text": [
      "Epoch 1/50\n",
      "1/1 [==============================] - 0s 54ms/step - loss: 1.7061e-05 - accuracy: 1.0000\n",
      "Epoch 2/50\n",
      "1/1 [==============================] - 0s 40ms/step - loss: 3.8147e-06 - accuracy: 1.0000\n",
      "Epoch 3/50\n",
      "1/1 [==============================] - 0s 40ms/step - loss: 2.2352e-06 - accuracy: 1.0000\n",
      "Epoch 4/50\n",
      "1/1 [==============================] - 0s 37ms/step - loss: 5.3346e-06 - accuracy: 1.0000\n",
      "Epoch 5/50\n",
      "1/1 [==============================] - 0s 46ms/step - loss: 2.0713e-06 - accuracy: 1.0000\n",
      "Epoch 6/50\n",
      "1/1 [==============================] - 0s 45ms/step - loss: 1.2666e-06 - accuracy: 1.0000\n",
      "Epoch 7/50\n",
      "1/1 [==============================] - 0s 46ms/step - loss: 4.6342e-06 - accuracy: 1.0000\n",
      "Epoch 8/50\n",
      "1/1 [==============================] - 0s 41ms/step - loss: 1.1176e-06 - accuracy: 1.0000\n",
      "Epoch 9/50\n",
      "1/1 [==============================] - 0s 68ms/step - loss: 1.7285e-06 - accuracy: 1.0000\n",
      "Epoch 10/50\n",
      "1/1 [==============================] - 0s 47ms/step - loss: 4.3213e-07 - accuracy: 1.0000\n",
      "Epoch 11/50\n",
      "1/1 [==============================] - 0s 47ms/step - loss: 4.1872e-06 - accuracy: 1.0000\n",
      "Epoch 12/50\n",
      "1/1 [==============================] - 0s 49ms/step - loss: 2.2948e-06 - accuracy: 1.0000\n",
      "Epoch 13/50\n",
      "1/1 [==============================] - 0s 41ms/step - loss: 2.5034e-06 - accuracy: 1.0000\n",
      "Epoch 14/50\n",
      "1/1 [==============================] - 0s 49ms/step - loss: 6.5565e-07 - accuracy: 1.0000\n"
     ]
    },
    {
     "data": {
      "text/plain": [
       "<keras.callbacks.History at 0x221e9876ce0>"
      ]
     },
     "execution_count": 16,
     "metadata": {},
     "output_type": "execute_result"
    }
   ],
   "source": [
    "ealy_stop = tf.keras.callbacks.EarlyStopping(monitor='loss', patience=4)\n",
    "\n",
    "\n",
    "'''training'''\n",
    "model.fit(inp_tensor, \n",
    "    target_tensor, \n",
    "    epochs=epochs,\n",
    "    callbacks=ealy_stop)"
   ]
  },
  {
   "cell_type": "code",
   "execution_count": 21,
   "metadata": {},
   "outputs": [],
   "source": [
    "def response(sentence):\n",
    "    sent_seq = []\n",
    "    doc = nlp(repr(sentence))\n",
    "\n",
    "    for token in doc :\n",
    "        if token.text in tokenizer.word_index:\n",
    "            sent_seq.append(tokenizer.word_index[token.text])\n",
    "        else:\n",
    "            sent_seq.append(tokenizer.word_index['<unk>'])\n",
    "\n",
    "    sent_seq = tf.expand_dims(sent_seq, 0)\n",
    "\n",
    "    pred = model(sent_seq)\n",
    "\n",
    "    pred_class = np.argmax(pred.numpy(), axis = 1)\n",
    "\n",
    "    rest = random.choice(intent_doc[target_idx_word[pred_class[0]]])\n",
    "    return rest, target_idx_word[pred_class[0]]"
   ]
  },
  {
   "cell_type": "code",
   "execution_count": 43,
   "metadata": {},
   "outputs": [
    {
     "data": {
      "text/plain": [
       "('Cool Hi <HUMAN>', 'GreetingResponse')"
      ]
     },
     "execution_count": 43,
     "metadata": {},
     "output_type": "execute_result"
    }
   ],
   "source": [
    "response('i am andres')"
   ]
  },
  {
   "cell_type": "code",
   "execution_count": null,
   "metadata": {},
   "outputs": [],
   "source": []
  }
 ],
 "metadata": {
  "kernelspec": {
   "display_name": "env310",
   "language": "python",
   "name": "python3"
  },
  "language_info": {
   "codemirror_mode": {
    "name": "ipython",
    "version": 3
   },
   "file_extension": ".py",
   "mimetype": "text/x-python",
   "name": "python",
   "nbconvert_exporter": "python",
   "pygments_lexer": "ipython3",
   "version": "3.10.8"
  },
  "orig_nbformat": 4
 },
 "nbformat": 4,
 "nbformat_minor": 2
}
