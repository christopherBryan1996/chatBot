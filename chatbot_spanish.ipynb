{
 "cells": [
  {
   "cell_type": "code",
   "execution_count": 1,
   "metadata": {},
   "outputs": [],
   "source": [
    "import numpy as np\n",
    "import json\n",
    "import re\n",
    "import tensorflow as tf\n",
    "import warnings\n",
    "import random\n",
    "\n",
    "import spacy\n",
    "\n",
    "#extraemos un diccionario en español del NPL\n",
    "nlp = spacy.load(\"es_core_news_sm\")\n",
    "\n",
    "#quitamos algunas alvertencias durante la ejecucion\n",
    "warnings.filterwarnings('ignore')"
   ]
  },
  {
   "cell_type": "code",
   "execution_count": 4,
   "metadata": {},
   "outputs": [],
   "source": [
    "#extraemos la informacion\n",
    "with open('data.json', 'rb') as file:\n",
    "    data = json.load(file)"
   ]
  },
  {
   "cell_type": "code",
   "execution_count": 5,
   "metadata": {},
   "outputs": [],
   "source": [
    "#extraemos la informacion\n",
    "inputs, targets = [],[]\n",
    "cls = []\n",
    "intent_doc = {}\n",
    "\n",
    "for i in data['data']:\n",
    "    if i['type'] not in cls:\n",
    "        cls.append(i['type'])\n",
    "\n",
    "    if i['type'] not in intent_doc:\n",
    "        intent_doc[i['type'] ] = []\n",
    "    \n",
    "    for text in i['texto']:\n",
    "        inputs.append(text)\n",
    "        targets.append(i['type'])\n",
    "\n",
    "    for response in i['response']:\n",
    "        intent_doc[i['type']].append(response)"
   ]
  },
  {
   "cell_type": "code",
   "execution_count": 40,
   "metadata": {},
   "outputs": [
    {
     "name": "stdout",
     "output_type": "stream",
     "text": [
      "['Hola', 'Hola, me ayudas', 'Ey', 'oye', 'me ayudas', 'necesito ayuda', 'me puedes ayudar', 'Adios', 'Bye', 'cuidate', 'hasta luego', 'ya no te necesito'] ['saludo', 'saludo', 'saludo', 'pedir_ayuda', 'pedir_ayuda', 'pedir_ayuda', 'pedir_ayuda', 'despedida', 'despedida', 'despedida', 'despedida', 'despedida']\n",
      "['saludo', 'pedir_ayuda', 'despedida']\n",
      "{'saludo': ['Hola humano, ¿En qué puedo ayudarte?', 'Hola humano, ¿En qué te ayudo?'], 'pedir_ayuda': ['¿En qué puedo ayudarte?', '¿En qué te ayudo?', '¿Dime lo q necesitas?'], 'despedida': ['Adios humanos', 'Good bye, adios en ingles', 'Cualquier cosa me puedes volver hablar', 'Cuidate, adios']}\n"
     ]
    }
   ],
   "source": [
    "print(inputs, targets)\n",
    "print(cls)\n",
    "print(intent_doc)"
   ]
  },
  {
   "cell_type": "code",
   "execution_count": 10,
   "metadata": {},
   "outputs": [],
   "source": [
    "'''tokenize data'''\n",
    "def token_data(inp_list):\n",
    "    tokenizer = tf.keras.preprocessing.text.Tokenizer(filters='', oov_token='<unk>')\n",
    "    tokenizer.fit_on_texts(inp_list)\n",
    "\n",
    "    inp_seq = tokenizer.texts_to_sequences(inp_list)\n",
    "\n",
    "    '''adding padding'''\n",
    "    inp_seq = tf.keras.preprocessing.sequence.pad_sequences(inp_seq, padding='pre')\n",
    "\n",
    "    return tokenizer, inp_seq\n",
    "\n",
    "'''preprocesss input data'''\n",
    "tokenizer,inp_tensor = token_data(inputs)"
   ]
  },
  {
   "cell_type": "code",
   "execution_count": 11,
   "metadata": {},
   "outputs": [
    {
     "name": "stdout",
     "output_type": "stream",
     "text": [
      "<keras.preprocessing.text.Tokenizer object at 0x00000259417CB190>\n",
      "[[ 0  0  0  5]\n",
      " [ 0  6  2  3]\n",
      " [ 0  0  0  7]\n",
      " [ 0  0  0  8]\n",
      " [ 0  0  2  3]\n",
      " [ 0  0  4  9]\n",
      " [ 0  2 10 11]\n",
      " [ 0  0  0 12]\n",
      " [ 0  0  0 13]\n",
      " [ 0  0  0 14]\n",
      " [ 0  0 15 16]\n",
      " [17 18 19  4]]\n"
     ]
    }
   ],
   "source": [
    "print(tokenizer)\n",
    "print(inp_tensor)"
   ]
  },
  {
   "cell_type": "code",
   "execution_count": 18,
   "metadata": {},
   "outputs": [],
   "source": [
    "def cr_cat_target(targets):\n",
    "    word = {}\n",
    "    cat_t = []\n",
    "    counter = 0\n",
    "\n",
    "    for trg in targets:\n",
    "        if trg not in word:\n",
    "            word[trg] = counter\n",
    "            counter += 1\n",
    "        cat_t.append(word[trg])\n",
    "\n",
    "    cat_tensor = tf.keras.utils.to_categorical(cat_t, num_classes = len(word), dtype =\"int32\")\n",
    "    return cat_tensor, dict((v,k) for k, v in word.items())\n",
    "\n",
    "'''preprocess output data'''\n",
    "target_tensor, target_idx_word= cr_cat_target(targets)"
   ]
  },
  {
   "cell_type": "code",
   "execution_count": 19,
   "metadata": {},
   "outputs": [
    {
     "name": "stdout",
     "output_type": "stream",
     "text": [
      "[[1 0 0]\n",
      " [1 0 0]\n",
      " [1 0 0]\n",
      " [0 1 0]\n",
      " [0 1 0]\n",
      " [0 1 0]\n",
      " [0 1 0]\n",
      " [0 0 1]\n",
      " [0 0 1]\n",
      " [0 0 1]\n",
      " [0 0 1]\n",
      " [0 0 1]]\n",
      "{0: 'saludo', 1: 'pedir_ayuda', 2: 'despedida'}\n"
     ]
    }
   ],
   "source": [
    "print(target_tensor)\n",
    "print(target_idx_word)"
   ]
  },
  {
   "cell_type": "code",
   "execution_count": 45,
   "metadata": {},
   "outputs": [
    {
     "data": {
      "text/plain": [
       "'input shape: (12, 4) and output shape: (12, 3)'"
      ]
     },
     "execution_count": 45,
     "metadata": {},
     "output_type": "execute_result"
    }
   ],
   "source": [
    "f'input shape: {np.shape(inp_tensor)} and output shape: {target_tensor.shape}'"
   ]
  },
  {
   "cell_type": "code",
   "execution_count": 46,
   "metadata": {},
   "outputs": [
    {
     "name": "stdout",
     "output_type": "stream",
     "text": [
      "Model: \"sequential_1\"\n",
      "_________________________________________________________________\n",
      " Layer (type)                Output Shape              Param #   \n",
      "=================================================================\n",
      " embedding_1 (Embedding)     (None, None, 512)         10240     \n",
      "                                                                 \n",
      " bidirectional_1 (Bidirectio  (None, 256)              656384    \n",
      " nal)                                                            \n",
      "                                                                 \n",
      " dense_2 (Dense)             (None, 128)               32896     \n",
      "                                                                 \n",
      " dropout_1 (Dropout)         (None, 128)               0         \n",
      "                                                                 \n",
      " dense_3 (Dense)             (None, 3)                 387       \n",
      "                                                                 \n",
      "=================================================================\n",
      "Total params: 699,907\n",
      "Trainable params: 699,907\n",
      "Non-trainable params: 0\n",
      "_________________________________________________________________\n"
     ]
    }
   ],
   "source": [
    "from tensorflow.keras import models\n",
    "from tensorflow.keras import layers\n",
    "#creamos la red neuronal\n",
    "epochs=50\n",
    "vocab_size = len(tokenizer.word_index)+1\n",
    "embed_dim = 512\n",
    "units =128\n",
    "target_len = target_tensor.shape[1]\n",
    "\n",
    "'''Model'''\n",
    "model = models.Sequential()\n",
    "\n",
    "model.add(layers.Embedding(vocab_size, embed_dim))\n",
    "model.add(layers.Bidirectional(layers.LSTM(units, dropout=0.2)))\n",
    "model.add(layers.Dense(units,activation='relu'))\n",
    "model.add(layers.Dropout(0.5))\n",
    "model.add(layers.Dense(target_len, activation='softmax'))\n",
    "\n",
    "model.summary()"
   ]
  },
  {
   "cell_type": "code",
   "execution_count": 47,
   "metadata": {},
   "outputs": [],
   "source": [
    "model.compile(optimizer='adam',\n",
    "              loss='categorical_crossentropy',\n",
    "              metrics=['accuracy'])"
   ]
  },
  {
   "cell_type": "code",
   "execution_count": 52,
   "metadata": {},
   "outputs": [
    {
     "name": "stdout",
     "output_type": "stream",
     "text": [
      "Epoch 1/50\n",
      "1/1 [==============================] - 0s 156ms/step - loss: 2.9472e-05 - accuracy: 1.0000\n",
      "Epoch 2/50\n",
      "1/1 [==============================] - 0s 156ms/step - loss: 6.3578e-06 - accuracy: 1.0000\n",
      "Epoch 3/50\n",
      "1/1 [==============================] - 0s 49ms/step - loss: 1.3629e-05 - accuracy: 1.0000\n",
      "Epoch 4/50\n",
      "1/1 [==============================] - 0s 48ms/step - loss: 2.1675e-05 - accuracy: 1.0000\n",
      "Epoch 5/50\n",
      "1/1 [==============================] - 0s 50ms/step - loss: 0.0011 - accuracy: 1.0000\n",
      "Epoch 6/50\n",
      "1/1 [==============================] - 0s 45ms/step - loss: 5.0960e-05 - accuracy: 1.0000\n",
      "Epoch 7/50\n",
      "1/1 [==============================] - 0s 47ms/step - loss: 1.7224e-05 - accuracy: 1.0000\n"
     ]
    }
   ],
   "source": [
    "from tensorflow.keras.callbacks import EarlyStopping\n",
    "from tensorflow.keras.callbacks import ModelCheckpoint\n",
    "\n",
    "es = EarlyStopping(monitor='loss', mode='min', patience = 5)\n",
    "mc = ModelCheckpoint('modelAI/modeloSpanish.h5', monitor='loss', mode='min', save_best_only=True)\n",
    "\n",
    "'''training'''\n",
    "history = model.fit(inp_tensor, \n",
    "    target_tensor, \n",
    "    epochs=epochs,\n",
    "    callbacks=[es, mc])"
   ]
  },
  {
   "cell_type": "code",
   "execution_count": 14,
   "metadata": {},
   "outputs": [],
   "source": [
    "import tensorflow\n",
    "model = tensorflow.keras.models.load_model('modelAI/modeloSpanish.h5', compile=False)"
   ]
  },
  {
   "cell_type": "code",
   "execution_count": 15,
   "metadata": {},
   "outputs": [],
   "source": [
    "def response(sentence):\n",
    "    sent_seq = []\n",
    "    doc = nlp(repr(sentence))\n",
    "\n",
    "    for token in doc :\n",
    "        if token.text in tokenizer.word_index:\n",
    "            sent_seq.append(tokenizer.word_index[token.text])\n",
    "        else:\n",
    "            sent_seq.append(tokenizer.word_index['<unk>'])\n",
    "\n",
    "    sent_seq = tf.expand_dims(sent_seq, 0)\n",
    "\n",
    "    pred = model(sent_seq)\n",
    "\n",
    "    pred_class = np.argmax(pred.numpy(), axis = 1)\n",
    "\n",
    "    rest = random.choice(intent_doc[target_idx_word[pred_class[0]]])\n",
    "    return rest, target_idx_word[pred_class[0]]"
   ]
  },
  {
   "cell_type": "code",
   "execution_count": 27,
   "metadata": {},
   "outputs": [
    {
     "data": {
      "text/plain": [
       "('¿Dime lo q necesitas?', 'pedir_ayuda')"
      ]
     },
     "execution_count": 27,
     "metadata": {},
     "output_type": "execute_result"
    }
   ],
   "source": [
    "\n",
    "response('que pedo perro')"
   ]
  },
  {
   "cell_type": "code",
   "execution_count": null,
   "metadata": {},
   "outputs": [],
   "source": []
  }
 ],
 "metadata": {
  "kernelspec": {
   "display_name": "env310",
   "language": "python",
   "name": "python3"
  },
  "language_info": {
   "codemirror_mode": {
    "name": "ipython",
    "version": 3
   },
   "file_extension": ".py",
   "mimetype": "text/x-python",
   "name": "python",
   "nbconvert_exporter": "python",
   "pygments_lexer": "ipython3",
   "version": "3.10.8"
  },
  "orig_nbformat": 4
 },
 "nbformat": 4,
 "nbformat_minor": 2
}
